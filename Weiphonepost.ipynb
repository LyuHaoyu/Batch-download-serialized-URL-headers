{
 "cells": [
  {
   "cell_type": "markdown",
   "metadata": {},
   "source": [
    "# Batch download serialized URL headers"
   ]
  },
  {
   "cell_type": "markdown",
   "metadata": {},
   "source": [
    "Download serialized URL headers in bulk from www.feng.com/post"
   ]
  },
  {
   "cell_type": "markdown",
   "metadata": {},
   "source": [
    "## 1. URL header extraction"
   ]
  },
  {
   "cell_type": "code",
   "execution_count": 3,
   "metadata": {},
   "outputs": [
    {
     "name": "stdout",
     "output_type": "stream",
     "text": [
      "值得精读的好书《为什么精英都是时间控》Kindle电子书百度网盘资源EPUB MOBI下载 - 威锋 - 千万果粉大本营\n"
     ]
    }
   ],
   "source": [
    "import requests\n",
    "from bs4 import BeautifulSoup\n",
    "res = requests.get(\"https://www.feng.com/post/11837000\")\n",
    "res.encoding = 'utf-8'  # \n",
    "soup = BeautifulSoup(res.text, 'lxml')\n",
    "print(soup.title.text)\n"
   ]
  },
  {
   "cell_type": "markdown",
   "metadata": {},
   "source": [
    "## 2. Implement batching of URL header extraction"
   ]
  },
  {
   "cell_type": "markdown",
   "metadata": {},
   "source": [
    "### 2.1 URL replacement"
   ]
  },
  {
   "cell_type": "code",
   "execution_count": 4,
   "metadata": {},
   "outputs": [
    {
     "name": "stdout",
     "output_type": "stream",
     "text": [
      "https://www.feng.com/post/3\n"
     ]
    }
   ],
   "source": [
    "str_name0 = 'https://www.feng.com/post/'\n",
    "\n",
    "i=3\n",
    "str_name1 = str(i)\n",
    "str_name = str_name0 + str_name1\n",
    "print(str_name)"
   ]
  },
  {
   "cell_type": "markdown",
   "metadata": {},
   "source": [
    "### 2.2  Header extraction after URL replacement"
   ]
  },
  {
   "cell_type": "code",
   "execution_count": 5,
   "metadata": {},
   "outputs": [
    {
     "name": "stdout",
     "output_type": "stream",
     "text": [
      "论坛新开张.欢迎大家多多发帖.关于weiphone.com - 威锋 - 千万果粉大本营\n"
     ]
    }
   ],
   "source": [
    "res = requests.get(str_name)\n",
    "res.encoding = 'utf-8'  # \n",
    "soup = BeautifulSoup(res.text, 'lxml')\n",
    "print(soup.title.text)"
   ]
  },
  {
   "cell_type": "markdown",
   "metadata": {},
   "source": [
    "### 2.3 Implement iterative header extraction "
   ]
  },
  {
   "cell_type": "code",
   "execution_count": 6,
   "metadata": {},
   "outputs": [
    {
     "name": "stdout",
     "output_type": "stream",
     "text": [
      "欢迎大家光临我们的Iphone - 威锋 - 千万果粉大本营\n",
      "1\n",
      "The Apple iPhone runs OS X 海量图 - 威锋 - 千万果粉大本营\n",
      "2\n",
      "论坛新开张.欢迎大家多多发帖.关于weiphone.com - 威锋 - 千万果粉大本营\n",
      "3\n",
      "苹果手机隆重发布 详细数据揭密曝光 - 威锋 - 千万果粉大本营\n",
      "4\n"
     ]
    }
   ],
   "source": [
    "for num in range(1,5):\n",
    "    str_name2 = str(num)\n",
    "    str_nametest = str_name0 + str_name2\n",
    "    res = requests.get(str_nametest)\n",
    "    res.encoding = 'utf-8'  # \n",
    "    soup = BeautifulSoup(res.text, 'lxml')\n",
    "    print(soup.title.text)\n",
    "    print(num)"
   ]
  },
  {
   "cell_type": "markdown",
   "metadata": {},
   "source": [
    "### 2.4 Save as excel "
   ]
  },
  {
   "cell_type": "code",
   "execution_count": 9,
   "metadata": {},
   "outputs": [],
   "source": [
    "import xlwt\n",
    "# 创建一个workbook 设置编码\n",
    "workbook = xlwt.Workbook(encoding = 'utf-8')\n",
    "# 创建一个worksheet\n",
    "worksheet = workbook.add_sheet('My Worksheet')\n",
    "\n",
    "# 写入excel\n",
    "# 参数对应 行, 列, 值\n",
    "worksheet.write(0,0, label = 'this is test')\n",
    "\n",
    "# 保存\n",
    "workbook.save('Excel_test.xls')"
   ]
  },
  {
   "cell_type": "markdown",
   "metadata": {},
   "source": [
    "### 2.5 Implement iterative operation "
   ]
  },
  {
   "cell_type": "code",
   "execution_count": 10,
   "metadata": {},
   "outputs": [],
   "source": [
    "k = 5432\n",
    "for num in range(k,5435):\n",
    "    str_name2 = str(num)\n",
    "    str_nametest = str_name0 + str_name2\n",
    "    res = requests.get(str_nametest)\n",
    "    res.encoding = 'utf-8'  # \n",
    "    soup = BeautifulSoup(res.text, 'lxml')\n",
    "\n",
    "    # 写入excel\n",
    "    # 参数对应 行, 列, 值\n",
    "    worksheet.write(num , 0 , label = num)\n",
    "    worksheet.write(num , 1 , label = soup.title.text)\n",
    "    # 保存\n",
    "    workbook.save('Excel_test2.xls')"
   ]
  },
  {
   "cell_type": "markdown",
   "metadata": {},
   "source": [
    "### 2.6 Interrupt test"
   ]
  },
  {
   "cell_type": "code",
   "execution_count": 116,
   "metadata": {},
   "outputs": [
    {
     "name": "stdout",
     "output_type": "stream",
     "text": [
      "200\n",
      "16693\n"
     ]
    }
   ],
   "source": [
    "print(res.status_code)\n",
    "print(num)"
   ]
  },
  {
   "cell_type": "code",
   "execution_count": 112,
   "metadata": {},
   "outputs": [
    {
     "name": "stdout",
     "output_type": "stream",
     "text": [
      "请问 - 威锋 - 千万果粉大本营\n"
     ]
    }
   ],
   "source": [
    "res = requests.get(\"https://www.feng.com/post/16101\")\n",
    "res.encoding = 'utf-8'  # \n",
    "soup = BeautifulSoup(res.text, 'lxml')\n",
    "print(soup.title.text)"
   ]
  },
  {
   "cell_type": "markdown",
   "metadata": {},
   "source": [
    "### 2.7 Interrupt subsequent writes"
   ]
  },
  {
   "cell_type": "code",
   "execution_count": 12,
   "metadata": {},
   "outputs": [],
   "source": [
    "workbook = xlwt.Workbook(encoding = 'utf-8')# 创建一个worksheet\n",
    "worksheet = workbook.add_sheet('My Worksheet')\n",
    "k = 1\n",
    "for num in range(k,20):\n",
    "    str_name2 = str(num)\n",
    "    str_nametest = str_name0 + str_name2\n",
    "    res = requests.get(str_nametest)\n",
    "    res.encoding = 'utf-8'  # \n",
    "    soup = BeautifulSoup(res.text, 'lxml')\n",
    "\n",
    "    \n",
    "    # 写入excel\n",
    "    # 参数对应 行, 列, 值\n",
    "    worksheet.write(num, 0 , label = num)\n",
    "    worksheet.write(num, 1 , label = soup.title.text)\n",
    "    # 保存\n",
    "    workbook.save('Excel_test2.xls')"
   ]
  }
 ],
 "metadata": {
  "kernelspec": {
   "display_name": "Python 3",
   "language": "python",
   "name": "python3"
  },
  "language_info": {
   "codemirror_mode": {
    "name": "ipython",
    "version": 3
   },
   "file_extension": ".py",
   "mimetype": "text/x-python",
   "name": "python",
   "nbconvert_exporter": "python",
   "pygments_lexer": "ipython3",
   "version": "3.7.3"
  }
 },
 "nbformat": 4,
 "nbformat_minor": 2
}
